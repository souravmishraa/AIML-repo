{
 "cells": [
  {
   "cell_type": "code",
   "execution_count": 7,
   "id": "20e34fd6-9091-4237-82b2-9b3c094f33b0",
   "metadata": {},
   "outputs": [
    {
     "name": "stdout",
     "output_type": "stream",
     "text": [
      "            Name            Team  Number Position   Age Height  Weight  \\\n",
      "0  Avery Bradley  Boston Celtics     0.0       PG  25.0    6-2   180.0   \n",
      "1    Jae Crowder  Boston Celtics    99.0       SF  25.0    6-6   235.0   \n",
      "2   John Holland  Boston Celtics    30.0       SG  27.0    6-5   205.0   \n",
      "3    R.J. Hunter  Boston Celtics    28.0       SG  22.0    6-5   185.0   \n",
      "4  Jonas Jerebko  Boston Celtics     8.0       PF  29.0   6-10   231.0   \n",
      "\n",
      "             College     Salary  \n",
      "0              Texas  7730337.0  \n",
      "1          Marquette  6796117.0  \n",
      "2  Boston University        NaN  \n",
      "3      Georgia State  1148640.0  \n",
      "4                NaN  5000000.0  \n",
      "<class 'pandas.core.frame.DataFrame'>\n",
      "RangeIndex: 458 entries, 0 to 457\n",
      "Data columns (total 9 columns):\n",
      " #   Column    Non-Null Count  Dtype  \n",
      "---  ------    --------------  -----  \n",
      " 0   Name      457 non-null    object \n",
      " 1   Team      457 non-null    object \n",
      " 2   Number    457 non-null    float64\n",
      " 3   Position  457 non-null    object \n",
      " 4   Age       457 non-null    float64\n",
      " 5   Height    457 non-null    object \n",
      " 6   Weight    457 non-null    float64\n",
      " 7   College   373 non-null    object \n",
      " 8   Salary    446 non-null    float64\n",
      "dtypes: float64(4), object(5)\n",
      "memory usage: 32.3+ KB\n",
      "None\n",
      "Name         1\n",
      "Team         1\n",
      "Number       1\n",
      "Position     1\n",
      "Age          1\n",
      "Height       1\n",
      "Weight       1\n",
      "College     85\n",
      "Salary      12\n",
      "dtype: int64\n"
     ]
    }
   ],
   "source": [
    "import pandas as pd\n",
    "\n",
    "# Load dataset\n",
    "df = pd.read_csv(\"https://media.geeksforgeeks.org/wp-content/uploads/nba.csv\")\n",
    "\n",
    "# Data Loading & Familiarization\n",
    "print(df.head())\n",
    "print(df.info())\n",
    "print(df.isnull().sum())\n"
   ]
  },
  {
   "cell_type": "code",
   "execution_count": 8,
   "id": "8bd317bf-806f-4d8a-9e46-65aaa44449a3",
   "metadata": {},
   "outputs": [
    {
     "data": {
      "text/plain": [
       "{'shape': (458, 9),\n",
       " 'columns': ['Name',\n",
       "  'Team',\n",
       "  'Number',\n",
       "  'Position',\n",
       "  'Age',\n",
       "  'Height',\n",
       "  'Weight',\n",
       "  'College',\n",
       "  'Salary'],\n",
       " 'data_types': {'Name': dtype('O'),\n",
       "  'Team': dtype('O'),\n",
       "  'Number': dtype('float64'),\n",
       "  'Position': dtype('O'),\n",
       "  'Age': dtype('float64'),\n",
       "  'Height': dtype('O'),\n",
       "  'Weight': dtype('float64'),\n",
       "  'College': dtype('O'),\n",
       "  'Salary': dtype('float64')}}"
      ]
     },
     "execution_count": 8,
     "metadata": {},
     "output_type": "execute_result"
    }
   ],
   "source": [
    "def describe_dataset(dataframe):\n",
    "    return {\n",
    "        \"shape\": dataframe.shape,\n",
    "        \"columns\": list(dataframe.columns),\n",
    "        \"data_types\": dict(dataframe.dtypes)\n",
    "    }\n",
    "\n",
    "describe_dataset(df)\n"
   ]
  },
  {
   "cell_type": "code",
   "execution_count": 15,
   "id": "9f8ea100-0464-458c-837c-edf7af66200a",
   "metadata": {},
   "outputs": [
    {
     "name": "stdout",
     "output_type": "stream",
     "text": [
      "            Name            Team  Number Position   Age Height  Weight  \\\n",
      "0  Avery Bradley  Boston Celtics     0.0       PG  25.0    6-2   180.0   \n",
      "1    Jae Crowder  Boston Celtics    99.0       SF  25.0    6-6   235.0   \n",
      "2    R.J. Hunter  Boston Celtics    28.0       SG  22.0    6-5   185.0   \n",
      "3  Jordan Mickey  Boston Celtics    55.0       PF  21.0    6-8   235.0   \n",
      "4   Kelly Olynyk  Boston Celtics    41.0        C  25.0    7-0   238.0   \n",
      "\n",
      "         College     Salary  \n",
      "0          Texas  7730337.0  \n",
      "1      Marquette  6796117.0  \n",
      "2  Georgia State  1148640.0  \n",
      "3            LSU  1170960.0  \n",
      "4        Gonzaga  2165160.0  \n"
     ]
    }
   ],
   "source": [
    "# Functional Cleaning & Preprocessing\n",
    "def remove_incomplete_rows(dataframe):\n",
    "    records = dataframe.to_dict(orient='records')\n",
    "    complete_records = list(filter(lambda row: all(pd.notnull(val) for val in row.values()), records))\n",
    "    return pd.DataFrame(complete_records)\n",
    "\n",
    "cleaned_df = remove_incomplete_rows(df)\n",
    "\n",
    "# Print cleaned data\n",
    "print(cleaned_df.head())"
   ]
  },
  {
   "cell_type": "code",
   "execution_count": 16,
   "id": "f0892c49-b1f7-4ea7-b830-b4195f474814",
   "metadata": {},
   "outputs": [
    {
     "name": "stdout",
     "output_type": "stream",
     "text": [
      "            Name            Team  Number Position   Age Height  Weight  \\\n",
      "0  avery bradley  boston celtics     0.0       PG  25.0    6-2   180.0   \n",
      "1    jae crowder  boston celtics    99.0       SF  25.0    6-6   235.0   \n",
      "2    r.j. hunter  boston celtics    28.0       SG  22.0    6-5   185.0   \n",
      "3  jordan mickey  boston celtics    55.0       PF  21.0    6-8   235.0   \n",
      "4   kelly olynyk  boston celtics    41.0        C  25.0    7-0   238.0   \n",
      "\n",
      "         College     Salary  \n",
      "0          Texas  7730337.0  \n",
      "1      Marquette  6796117.0  \n",
      "2  Georgia State  1148640.0  \n",
      "3            LSU  1170960.0  \n",
      "4        Gonzaga  2165160.0  \n"
     ]
    }
   ],
   "source": [
    "def normalize_text_columns(dataframe):\n",
    "    new_df = dataframe.copy()\n",
    "    for col in ['Name', 'Team']:\n",
    "        new_df[col] = new_df[col].map(lambda x: x.strip().lower() if isinstance(x, str) else x)\n",
    "    return new_df\n",
    "\n",
    "normalized_df = normalize_text_columns(cleaned_df)\n",
    "\n",
    "# Print the output\n",
    "print(normalized_df.head())\n"
   ]
  },
  {
   "cell_type": "code",
   "execution_count": 11,
   "id": "297cde47-c021-49a6-af50-764806dca0cc",
   "metadata": {},
   "outputs": [],
   "source": [
    "names_upper = []\n",
    "for name in df['Name']:\n",
    "    if isinstance(name, str):\n",
    "        names_upper.append(name.upper())\n"
   ]
  },
  {
   "cell_type": "code",
   "execution_count": 12,
   "id": "23535fdb-e2e5-4c3e-beb1-92481d8b2875",
   "metadata": {},
   "outputs": [],
   "source": [
    "names_upper = list(map(lambda name: name.upper(), filter(lambda x: isinstance(x, str), df['Name'])))\n"
   ]
  },
  {
   "cell_type": "code",
   "execution_count": 13,
   "id": "61432e67-89c2-48bb-8914-33241e5d2f86",
   "metadata": {},
   "outputs": [
    {
     "data": {
      "text/plain": [
       "{'atlanta hawks': 5125754.545454546,\n",
       " 'boston celtics': 3461755.6666666665,\n",
       " 'brooklyn nets': 3654086.5384615385,\n",
       " 'charlotte hornets': 3978124.153846154,\n",
       " 'chicago bulls': 6105483.333333333,\n",
       " 'cleveland cavaliers': 6733471.7272727275,\n",
       " 'dallas mavericks': 4761692.083333333,\n",
       " 'denver nuggets': 4240885.666666667,\n",
       " 'detroit pistons': 4477884.2,\n",
       " 'golden state warriors': 6711293.083333333,\n",
       " 'houston rockets': 4404132.363636363,\n",
       " 'indiana pacers': 4004800.0833333335,\n",
       " 'los angeles clippers': 6707636.714285715,\n",
       " 'los angeles lakers': 3270444.8333333335,\n",
       " 'memphis grizzlies': 4374067.692307692,\n",
       " 'miami heat': 6583812.1,\n",
       " 'milwaukee bucks': 4771039.785714285,\n",
       " 'minnesota timberwolves': 2663774.5,\n",
       " 'new orleans pelicans': 4262525.5,\n",
       " 'new york knicks': 5270654.7272727275,\n",
       " 'oklahoma city thunder': 5822521.285714285,\n",
       " 'orlando magic': 3788728.8,\n",
       " 'philadelphia 76ers': 2213778.1428571427,\n",
       " 'phoenix suns': 3457318.076923077,\n",
       " 'portland trail blazers': 3220121.2,\n",
       " 'sacramento kings': 4829759.538461538,\n",
       " 'san antonio spurs': 5408293.909090909,\n",
       " 'toronto raptors': 5737712.9,\n",
       " 'utah jazz': 5225649.1,\n",
       " 'washington wizards': 4008557.3076923075}"
      ]
     },
     "execution_count": 13,
     "metadata": {},
     "output_type": "execute_result"
    }
   ],
   "source": [
    "# Ensure 'Salary' is numeric\n",
    "normalized_df['Salary'] = pd.to_numeric(normalized_df['Salary'], errors='coerce')\n",
    "\n",
    "# Functional-style summary\n",
    "average_salary_by_team = normalized_df.groupby('Team')['Salary'].mean().to_dict()\n",
    "average_salary_by_team\n"
   ]
  },
  {
   "cell_type": "code",
   "execution_count": 14,
   "id": "b455527c-2aa6-4b53-a4a6-21564b2054b5",
   "metadata": {},
   "outputs": [
    {
     "data": {
      "text/html": [
       "<div>\n",
       "<style scoped>\n",
       "    .dataframe tbody tr th:only-of-type {\n",
       "        vertical-align: middle;\n",
       "    }\n",
       "\n",
       "    .dataframe tbody tr th {\n",
       "        vertical-align: top;\n",
       "    }\n",
       "\n",
       "    .dataframe thead th {\n",
       "        text-align: right;\n",
       "    }\n",
       "</style>\n",
       "<table border=\"1\" class=\"dataframe\">\n",
       "  <thead>\n",
       "    <tr style=\"text-align: right;\">\n",
       "      <th></th>\n",
       "      <th>Name</th>\n",
       "      <th>Salary</th>\n",
       "      <th>salary_bracket</th>\n",
       "    </tr>\n",
       "  </thead>\n",
       "  <tbody>\n",
       "    <tr>\n",
       "      <th>0</th>\n",
       "      <td>avery bradley</td>\n",
       "      <td>7730337.0</td>\n",
       "      <td>high</td>\n",
       "    </tr>\n",
       "    <tr>\n",
       "      <th>1</th>\n",
       "      <td>jae crowder</td>\n",
       "      <td>6796117.0</td>\n",
       "      <td>high</td>\n",
       "    </tr>\n",
       "    <tr>\n",
       "      <th>2</th>\n",
       "      <td>r.j. hunter</td>\n",
       "      <td>1148640.0</td>\n",
       "      <td>low</td>\n",
       "    </tr>\n",
       "    <tr>\n",
       "      <th>3</th>\n",
       "      <td>jordan mickey</td>\n",
       "      <td>1170960.0</td>\n",
       "      <td>low</td>\n",
       "    </tr>\n",
       "    <tr>\n",
       "      <th>4</th>\n",
       "      <td>kelly olynyk</td>\n",
       "      <td>2165160.0</td>\n",
       "      <td>low</td>\n",
       "    </tr>\n",
       "  </tbody>\n",
       "</table>\n",
       "</div>"
      ],
      "text/plain": [
       "            Name     Salary salary_bracket\n",
       "0  avery bradley  7730337.0           high\n",
       "1    jae crowder  6796117.0           high\n",
       "2    r.j. hunter  1148640.0            low\n",
       "3  jordan mickey  1170960.0            low\n",
       "4   kelly olynyk  2165160.0            low"
      ]
     },
     "execution_count": 14,
     "metadata": {},
     "output_type": "execute_result"
    }
   ],
   "source": [
    "def add_salary_bracket(dataframe):\n",
    "    new_df = dataframe.copy()\n",
    "    new_df['salary_bracket'] = [\n",
    "        'high' if s >= 5_000_000 else 'low' for s in new_df['Salary']\n",
    "    ]\n",
    "    return new_df\n",
    "\n",
    "final_df = add_salary_bracket(normalized_df)\n",
    "final_df[['Name', 'Salary', 'salary_bracket']].head()\n"
   ]
  },
  {
   "cell_type": "code",
   "execution_count": null,
   "id": "d2233491-a128-46d9-a5cc-156cf2169dd3",
   "metadata": {},
   "outputs": [],
   "source": []
  }
 ],
 "metadata": {
  "kernelspec": {
   "display_name": "Python 3 (ipykernel)",
   "language": "python",
   "name": "python3"
  },
  "language_info": {
   "codemirror_mode": {
    "name": "ipython",
    "version": 3
   },
   "file_extension": ".py",
   "mimetype": "text/x-python",
   "name": "python",
   "nbconvert_exporter": "python",
   "pygments_lexer": "ipython3",
   "version": "3.10.12"
  }
 },
 "nbformat": 4,
 "nbformat_minor": 5
}
